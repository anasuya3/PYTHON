{
  "nbformat": 4,
  "nbformat_minor": 0,
  "metadata": {
    "colab": {
      "name": "List-Tuple-Set-Dict.ipynb",
      "provenance": [],
      "authorship_tag": "ABX9TyMFsoMsIX9ju6trNyGu4otk",
      "include_colab_link": true
    },
    "kernelspec": {
      "name": "python3",
      "display_name": "Python 3"
    },
    "language_info": {
      "name": "python"
    }
  },
  "cells": [
    {
      "cell_type": "markdown",
      "metadata": {
        "id": "view-in-github",
        "colab_type": "text"
      },
      "source": [
        "<a href=\"https://colab.research.google.com/github/anasuya3/PYTHON/blob/main/List_Tuple_Set_Dict.ipynb\" target=\"_parent\"><img src=\"https://colab.research.google.com/assets/colab-badge.svg\" alt=\"Open In Colab\"/></a>"
      ]
    },
    {
      "cell_type": "code",
      "metadata": {
        "colab": {
          "base_uri": "https://localhost:8080/"
        },
        "id": "0kh4WpwpU_M9",
        "outputId": "3639777f-faf0-48a9-d4f9-d580cfe67116"
      },
      "source": [
        "#Python Program to Remove the Duplicate Items from a List\n",
        "def removeDuplicate(lst):\n",
        "  b = set()\n",
        "  unique = []\n",
        "  for x in lst:\n",
        "    if x not in b:\n",
        "        unique.append(x)\n",
        "        b.add(x)\n",
        "  return unique\n",
        "removeDuplicate([1,2,3,3,4,5,6])"
      ],
      "execution_count": 1,
      "outputs": [
        {
          "output_type": "execute_result",
          "data": {
            "text/plain": [
              "[1, 2, 3, 4, 5, 6]"
            ]
          },
          "metadata": {},
          "execution_count": 1
        }
      ]
    },
    {
      "cell_type": "code",
      "metadata": {
        "colab": {
          "base_uri": "https://localhost:8080/"
        },
        "id": "82Wgzb9AV6-g",
        "outputId": "bd70f05e-cdd1-42bb-9279-2650dc0e4ab7"
      },
      "source": [
        "#python program to convert tuple into string\n",
        "tup = ('e', 'x', 'e', 'r', 'c', 'i', 's', 'e', 's')\n",
        "str =  ''.join(tup)\n",
        "print(str)"
      ],
      "execution_count": 2,
      "outputs": [
        {
          "output_type": "stream",
          "name": "stdout",
          "text": [
            "exercises\n"
          ]
        }
      ]
    },
    {
      "cell_type": "code",
      "metadata": {
        "colab": {
          "base_uri": "https://localhost:8080/"
        },
        "id": "OgWtr0buWcfA",
        "outputId": "c8ad34c4-3b28-49b1-f525-47c60e7c9e0c"
      },
      "source": [
        "# Write a Python program to remove an empty tuple(s) from a list of tuples. Go to the editor\n",
        "# Sample data: [(), (), ('',), ('a', 'b'), ('a', 'b', 'c'), ('d')]\n",
        "# Expected output: [('',), ('a', 'b'), ('a', 'b', 'c'), 'd']\n",
        "L = [(), (), ('',), ('a', 'b'), ('a', 'b', 'c'), ('d')]\n",
        "L = [t for t in L if t]\n",
        "print(L)"
      ],
      "execution_count": 3,
      "outputs": [
        {
          "output_type": "stream",
          "name": "stdout",
          "text": [
            "[('',), ('a', 'b'), ('a', 'b', 'c'), 'd']\n"
          ]
        }
      ]
    },
    {
      "cell_type": "code",
      "metadata": {
        "colab": {
          "base_uri": "https://localhost:8080/"
        },
        "id": "2nM_BXevXd44",
        "outputId": "3e1c6a07-0c3e-407d-8b93-68bb0b15148c"
      },
      "source": [
        "# Write a Python program to find the length of a set.\n",
        "setn = {5, 10, 3, 15, 2, 20}\n",
        "print(\"Original set elements:\")\n",
        "print(setn)\n",
        "print(type(setn))\n",
        "print(\"\\nLength of the said set:\")\n",
        "print(len(setn))"
      ],
      "execution_count": 1,
      "outputs": [
        {
          "output_type": "stream",
          "name": "stdout",
          "text": [
            "Original set elements:\n",
            "{2, 3, 5, 10, 15, 20}\n",
            "<class 'set'>\n",
            "\n",
            "Length of the said set:\n",
            "6\n"
          ]
        }
      ]
    },
    {
      "cell_type": "code",
      "metadata": {
        "colab": {
          "base_uri": "https://localhost:8080/"
        },
        "id": "BwNPypJqoh5f",
        "outputId": "1deaae92-18e6-434d-b41e-8fc4263d5abc"
      },
      "source": [
        "#Write a Python program to find maximum and the minimum value in a set.\n",
        "setn = {5, 10, 3, 15, 2, 20}\n",
        "print(\"Original set elements:\")\n",
        "print(setn)\n",
        "print(type(setn))\n",
        "print(\"\\nMaximum value of the said set:\")\n",
        "print(max(setn))\n",
        "print(\"\\nMinimum value of the said set:\")\n",
        "print(min(setn))"
      ],
      "execution_count": 2,
      "outputs": [
        {
          "output_type": "stream",
          "name": "stdout",
          "text": [
            "Original set elements:\n",
            "{2, 3, 5, 10, 15, 20}\n",
            "<class 'set'>\n",
            "\n",
            "Maximum value of the said set:\n",
            "20\n",
            "\n",
            "Minimum value of the said set:\n",
            "2\n"
          ]
        }
      ]
    },
    {
      "cell_type": "code",
      "metadata": {
        "colab": {
          "base_uri": "https://localhost:8080/"
        },
        "id": "fRG_sKNTpKSz",
        "outputId": "2db5c228-0bc7-41e2-f3c3-290fc799fabc"
      },
      "source": [
        "#Write a Python script to concatenate following dictionaries to create a new one.\n",
        "dic1={1:10, 2:20}\n",
        "dic2={3:30, 4:40}\n",
        "dic3={5:50,6:60}\n",
        "dic4 = {}\n",
        "for d in (dic1, dic2, dic3): dic4.update(d)\n",
        "print(dic4)"
      ],
      "execution_count": 3,
      "outputs": [
        {
          "output_type": "stream",
          "name": "stdout",
          "text": [
            "{1: 10, 2: 20, 3: 30, 4: 40, 5: 50, 6: 60}\n"
          ]
        }
      ]
    },
    {
      "cell_type": "code",
      "metadata": {
        "colab": {
          "base_uri": "https://localhost:8080/"
        },
        "id": "rffUTkdFpae2",
        "outputId": "88b5b770-436c-4b44-d893-f513587141d4"
      },
      "source": [
        "# Write a Python program to sum all the items in a dictionary. \n",
        "my_dict = {'data1':100,'data2':-54,'data3':247}\n",
        "print(sum(my_dict.values()))"
      ],
      "execution_count": 4,
      "outputs": [
        {
          "output_type": "stream",
          "name": "stdout",
          "text": [
            "293\n"
          ]
        }
      ]
    },
    {
      "cell_type": "code",
      "metadata": {
        "colab": {
          "base_uri": "https://localhost:8080/"
        },
        "id": "8gCi1HFPqAgw",
        "outputId": "50ff80f8-5651-4147-d122-f0076bb2d2f6"
      },
      "source": [
        "#Write a Python program to find the highest 3 values of corresponding keys in a dictionary.\n",
        "from heapq import nlargest\n",
        "my_dict = {'a':500, 'b':5874, 'c': 560,'d':400, 'e':5874, 'f': 20}  \n",
        "three_largest = nlargest(3, my_dict, key=my_dict.get)\n",
        "print(three_largest) "
      ],
      "execution_count": 5,
      "outputs": [
        {
          "output_type": "stream",
          "name": "stdout",
          "text": [
            "['b', 'e', 'c']\n"
          ]
        }
      ]
    }
  ]
}