{
  "nbformat": 4,
  "nbformat_minor": 0,
  "metadata": {
    "colab": {
      "name": "Aug_Exercise_1.ipynb",
      "provenance": [],
      "include_colab_link": true
    },
    "kernelspec": {
      "name": "python3",
      "display_name": "Python 3"
    },
    "language_info": {
      "name": "python"
    }
  },
  "cells": [
    {
      "cell_type": "markdown",
      "metadata": {
        "id": "view-in-github",
        "colab_type": "text"
      },
      "source": [
        "<a href=\"https://colab.research.google.com/github/anasuya3/PYTHON/blob/main/Aug_Exercise_1.ipynb\" target=\"_parent\"><img src=\"https://colab.research.google.com/assets/colab-badge.svg\" alt=\"Open In Colab\"/></a>"
      ]
    },
    {
      "cell_type": "markdown",
      "metadata": {
        "id": "8ksjlrdKiGur"
      },
      "source": [
        "FIZZ BUZZ PROBLEM"
      ]
    },
    {
      "cell_type": "code",
      "metadata": {
        "id": "8KIgod_THupA"
      },
      "source": [
        "def fizzbuzz(n: int)-> str:\n",
        "  if n % 3 == 0 and n % 5 == 0:\n",
        "    return \"FizzBuzz\"\n",
        "  if n % 3 == 0:\n",
        "    return \"Fizz\"\n",
        "  if n % 5 == 0:\n",
        "    return \"Buzz\"\n",
        "  return str(n) "
      ],
      "execution_count": null,
      "outputs": []
    },
    {
      "cell_type": "code",
      "metadata": {
        "colab": {
          "base_uri": "https://localhost:8080/"
        },
        "id": "zqpeUakUIZFJ",
        "outputId": "146b9fa5-22fa-418d-9c73-815b745c1151"
      },
      "source": [
        "def bossfix(s: str)-> str:\n",
        "  return \"*\"+s.upper()+\"*\"\n",
        "\n",
        "for i in range(1, 40):\n",
        "  print(bossfix(fizzbuzz(i)), end=\"\")"
      ],
      "execution_count": null,
      "outputs": [
        {
          "output_type": "stream",
          "text": [
            "* 1** 2** FIZZ** 4** BUZZ** FIZZ** 7** 8** FIZZ** BUZZ** 11** FIZZ** 13** 14** FIZZBUZZ** 16** 17** FIZZ** 19** BUZZ** FIZZ** 22** 23** FIZZ** BUZZ** 26** FIZZ** 28** 29** FIZZBUZZ** 31** 32** FIZZ** 34** BUZZ** FIZZ** 37** 38** FIZZ*"
          ],
          "name": "stdout"
        }
      ]
    },
    {
      "cell_type": "code",
      "metadata": {
        "id": "CeC3wXnIImZd"
      },
      "source": [
        "def fizzbuzz(n: int)-> str:\n",
        "  fb = \" \"\n",
        "  if n % 3 == 0 and n % 5 == 0:\n",
        "    fb += \"FizzBuzz\"\n",
        "  elif n % 3 == 0:\n",
        "    fb += \"Fizz\"\n",
        "  elif n % 5 == 0:\n",
        "    fb += \"Buzz\"\n",
        "  else:\n",
        "    fb += str(n)\n",
        "  return fb"
      ],
      "execution_count": null,
      "outputs": []
    },
    {
      "cell_type": "code",
      "metadata": {
        "colab": {
          "base_uri": "https://localhost:8080/"
        },
        "id": "-lkYgDiTJk5g",
        "outputId": "b26f1539-4c10-4851-f508-d43b90eab315"
      },
      "source": [
        "for i in range(1, 40):\n",
        "  print(fizzbuzz(i), end = \",\")"
      ],
      "execution_count": null,
      "outputs": [
        {
          "output_type": "stream",
          "text": [
            " 1, 2, Fizz, 4, Buzz, Fizz, 7, 8, Fizz, Buzz, 11, Fizz, 13, 14, FizzBuzz, 16, 17, Fizz, 19, Buzz, Fizz, 22, 23, Fizz, Buzz, 26, Fizz, 28, 29, FizzBuzz, 31, 32, Fizz, 34, Buzz, Fizz, 37, 38, Fizz,"
          ],
          "name": "stdout"
        }
      ]
    },
    {
      "cell_type": "code",
      "metadata": {
        "id": "CUM7J7i8J_s2"
      },
      "source": [
        "def fizzbuzz3(n: int)->str:\n",
        "  fb = { (True, True) : \"FizzBuzz\",\n",
        "         (True, False) : \"Fizz\",\n",
        "         (False, True) : \"Buzz\",\n",
        "         (False, False): str(n)\n",
        "  }\n",
        "  return fb[(n % 3 == 0, n % 5 == 0)]"
      ],
      "execution_count": null,
      "outputs": []
    },
    {
      "cell_type": "code",
      "metadata": {
        "colab": {
          "base_uri": "https://localhost:8080/"
        },
        "id": "jh_5x5iGLTVo",
        "outputId": "b8862e4e-b1d8-4470-d0a7-edd22a817788"
      },
      "source": [
        "for i in range(1, 40):\n",
        "  print(fizzbuzz3(i), end = \",\")"
      ],
      "execution_count": null,
      "outputs": [
        {
          "output_type": "stream",
          "text": [
            "1,2,Fizz,4,Buzz,Fizz,7,8,Fizz,Buzz,11,Fizz,13,14,FizzBuzz,16,17,Fizz,19,Buzz,Fizz,22,23,Fizz,Buzz,26,Fizz,28,29,FizzBuzz,31,32,Fizz,34,Buzz,Fizz,37,38,Fizz,"
          ],
          "name": "stdout"
        }
      ]
    },
    {
      "cell_type": "markdown",
      "metadata": {
        "id": "fT-IwVi7iQMq"
      },
      "source": [
        "##Find the sum of all numbers which are equal to the sum of the factorial of \n",
        "##their digits."
      ]
    },
    {
      "cell_type": "code",
      "metadata": {
        "id": "vN9Hv5mnMSMZ"
      },
      "source": [
        "def fact(n: int)->int:\n",
        "  return 1 if n==1 else n * fact(n-1)"
      ],
      "execution_count": null,
      "outputs": []
    },
    {
      "cell_type": "code",
      "metadata": {
        "id": "IdlNjiAsNHgI"
      },
      "source": [
        "def sumOfDigits(n: int)->int:\n",
        "  total = 0\n",
        "  while n > 0 :\n",
        "    total += fact(n % 10)\n",
        "    n //= 10\n",
        "  return total\n"
      ],
      "execution_count": null,
      "outputs": []
    },
    {
      "cell_type": "code",
      "metadata": {
        "id": "wm3ufxmgOAhf"
      },
      "source": [
        "def IscuriousNumber(n: int)->bool:\n",
        "  return n == sumOfDigits(n)"
      ],
      "execution_count": null,
      "outputs": []
    },
    {
      "cell_type": "code",
      "metadata": {
        "colab": {
          "base_uri": "https://localhost:8080/"
        },
        "id": "3Ffk06ZWB_1r",
        "outputId": "46863572-4fbb-472e-c0b8-ec0a56387a40"
      },
      "source": [
        "IscuriousNumber(145)"
      ],
      "execution_count": null,
      "outputs": [
        {
          "output_type": "execute_result",
          "data": {
            "text/plain": [
              "True"
            ]
          },
          "metadata": {},
          "execution_count": 5
        }
      ]
    },
    {
      "cell_type": "markdown",
      "metadata": {
        "id": "h-r9wx1NimwN"
      },
      "source": [
        "##Generate the Amstrong numbers between two given numbers."
      ]
    },
    {
      "cell_type": "code",
      "metadata": {
        "id": "IXnm2tN1O-Ag"
      },
      "source": [
        "def amstrongserise(start: int, end: int)->[int]:\n",
        "  serise = []\n",
        "  for num in range(start, end):\n",
        "    if checkArmstrong(num):\n",
        "      serise.append(num)\n",
        "  return serise    \n"
      ],
      "execution_count": null,
      "outputs": []
    },
    {
      "cell_type": "code",
      "metadata": {
        "id": "KSa9SXzgjv7G"
      },
      "source": [
        "def checkArmstrong(num: int)->bool:\n",
        "  temp = num\n",
        "  arm = 0\n",
        "  while num > 0:\n",
        "    arm += (num % 10) ** len(str(temp))\n",
        "    num //= 10\n",
        "  return temp == arm\n",
        "\n",
        "#checkArmstrong(153)"
      ],
      "execution_count": null,
      "outputs": []
    },
    {
      "cell_type": "code",
      "metadata": {
        "colab": {
          "base_uri": "https://localhost:8080/"
        },
        "id": "NrnlQ5LcmeVz",
        "outputId": "51aeabe6-12e6-4ab1-a0e0-3a8a11d889f6"
      },
      "source": [
        "amstrongserise(100, 10000)"
      ],
      "execution_count": null,
      "outputs": [
        {
          "output_type": "execute_result",
          "data": {
            "text/plain": [
              "[153, 370, 371, 407, 1634, 8208, 9474]"
            ]
          },
          "metadata": {},
          "execution_count": 8
        }
      ]
    },
    {
      "cell_type": "markdown",
      "metadata": {
        "id": "VQbGJEe3mu9Q"
      },
      "source": [
        "METHOD-2"
      ]
    },
    {
      "cell_type": "code",
      "metadata": {
        "id": "Bzj9rDGOmxvX"
      },
      "source": [
        "def is_armstrong(n: int)->bool:\n",
        "  ds = digits(n)\n",
        "  return n==sum(powers(ds, len(ds)))"
      ],
      "execution_count": null,
      "outputs": []
    },
    {
      "cell_type": "code",
      "metadata": {
        "colab": {
          "base_uri": "https://localhost:8080/"
        },
        "id": "2r2ro1ycnPqM",
        "outputId": "e2a70367-cc1d-4a1a-dcd2-da0c5777fef0"
      },
      "source": [
        "def digits(n: int)->[int]:\n",
        "  return [int(ch) for ch in str(n)]\n",
        "\n",
        "digits(153)"
      ],
      "execution_count": null,
      "outputs": [
        {
          "output_type": "execute_result",
          "data": {
            "text/plain": [
              "[1, 5, 3]"
            ]
          },
          "metadata": {
            "tags": []
          },
          "execution_count": 20
        }
      ]
    },
    {
      "cell_type": "code",
      "metadata": {
        "colab": {
          "base_uri": "https://localhost:8080/"
        },
        "id": "6ktt2U4infNw",
        "outputId": "80e3011a-aa8e-4e2a-d6fb-7216d5199f78"
      },
      "source": [
        "def powers(ds: [int], p: int):\n",
        "  return [d ** p for d in ds]\n",
        "\n",
        "powers([1, 5, 3], 3)"
      ],
      "execution_count": null,
      "outputs": [
        {
          "output_type": "execute_result",
          "data": {
            "text/plain": [
              "[1, 125, 27]"
            ]
          },
          "metadata": {
            "tags": []
          },
          "execution_count": 22
        }
      ]
    },
    {
      "cell_type": "code",
      "metadata": {
        "id": "8xbLvuOdnzi8"
      },
      "source": [
        "def makeArmstrong(start: int, limit: int):\n",
        "  return filter(is_armstrong, range(start, limit))"
      ],
      "execution_count": null,
      "outputs": []
    },
    {
      "cell_type": "code",
      "metadata": {
        "colab": {
          "base_uri": "https://localhost:8080/"
        },
        "id": "GjoN4zuMoL2Q",
        "outputId": "e169e647-45cf-4e84-af3e-87ddf3d29100"
      },
      "source": [
        "list(makeArmstrong(100, 1000))"
      ],
      "execution_count": null,
      "outputs": [
        {
          "output_type": "execute_result",
          "data": {
            "text/plain": [
              "[153, 370, 371, 407]"
            ]
          },
          "metadata": {
            "tags": []
          },
          "execution_count": 19
        }
      ]
    },
    {
      "cell_type": "markdown",
      "metadata": {
        "id": "hQhc8Xkto7Ss"
      },
      "source": [
        "##Find the largest palindrome made from the product of two 3-digit numbers.\n"
      ]
    },
    {
      "cell_type": "code",
      "metadata": {
        "id": "FSG2Z7k5pCH2"
      },
      "source": [
        "def checkPalindrome(num : int)->bool:\n",
        "  return str(num) == str(num)[::-1]"
      ],
      "execution_count": null,
      "outputs": []
    },
    {
      "cell_type": "code",
      "metadata": {
        "colab": {
          "base_uri": "https://localhost:8080/"
        },
        "id": "fgJzGNhJpMxo",
        "outputId": "2266f7ce-283c-47a8-978f-e8b9ce3d82f5"
      },
      "source": [
        "def largestPalindrome()-> int:\n",
        "  palindromes = []\n",
        "  num = 0\n",
        "  for x in range(999, 100, -1):\n",
        "    for i in range(999, 100, -1):\n",
        "      if len(str(i * x)) == 6:\n",
        "        if checkPalindrome(i * x) and i * x > num:\n",
        "          num = i * x\n",
        "          palindromes.append(num)\n",
        "  return palindromes\n",
        "               \n",
        "print(max(largestPalindrome()))"
      ],
      "execution_count": null,
      "outputs": [
        {
          "output_type": "stream",
          "name": "stdout",
          "text": [
            "906609\n"
          ]
        }
      ]
    },
    {
      "cell_type": "markdown",
      "metadata": {
        "id": "gwI90JM-CgGF"
      },
      "source": [
        "Check a number is prime or not"
      ]
    },
    {
      "cell_type": "code",
      "metadata": {
        "id": "4hwuq3qRCkjf"
      },
      "source": [
        "def is_prime(n: int)-> bool:\n",
        "  if n in [2, 3, 5, 7]:\n",
        "    return True\n",
        "  if n < 2 or n % 2 == 0:\n",
        "    return False\n",
        "  i = 3\n",
        "  while i <= n ** 0.5:\n",
        "    if n % i == 0:\n",
        "      return False\n",
        "    i += 2\n",
        "  return True\n",
        "  "
      ],
      "execution_count": null,
      "outputs": []
    },
    {
      "cell_type": "code",
      "metadata": {
        "colab": {
          "base_uri": "https://localhost:8080/"
        },
        "id": "mArlOGrCDY1t",
        "outputId": "ec2b2047-3a25-429b-f452-101af4d6c8c6"
      },
      "source": [
        "print(is_prime(2))\n",
        "print(is_prime(222))\n",
        "print(is_prime(19))\n",
        "print(is_prime(49))\n",
        "print(is_prime(47))"
      ],
      "execution_count": null,
      "outputs": [
        {
          "output_type": "stream",
          "name": "stdout",
          "text": [
            "True\n",
            "False\n",
            "True\n",
            "False\n",
            "True\n"
          ]
        }
      ]
    }
  ]
}