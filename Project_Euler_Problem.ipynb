{
  "nbformat": 4,
  "nbformat_minor": 0,
  "metadata": {
    "colab": {
      "name": "Project_Euler_Problem.ipynb",
      "provenance": [],
      "include_colab_link": true
    },
    "kernelspec": {
      "display_name": "Python 3",
      "name": "python3"
    },
    "language_info": {
      "name": "python"
    }
  },
  "cells": [
    {
      "cell_type": "markdown",
      "metadata": {
        "id": "view-in-github",
        "colab_type": "text"
      },
      "source": [
        "<a href=\"https://colab.research.google.com/github/anasuya3/PYTHON/blob/main/Project_Euler_Problem.ipynb\" target=\"_parent\"><img src=\"https://colab.research.google.com/assets/colab-badge.svg\" alt=\"Open In Colab\"/></a>"
      ]
    },
    {
      "cell_type": "markdown",
      "metadata": {
        "id": "AOFyfxgFzH_y"
      },
      "source": [
        "##Multiples of 3 or 5##\n",
        "Problem 1\n",
        "\n",
        "If we list all the natural numbers below 10 that are multiples of 3 or 5, we get 3, 5, 6 and 9. The sum of these multiples is 23.\n",
        "\n",
        "Find the sum of all the multiples of 3 or 5 below 1000."
      ]
    },
    {
      "cell_type": "code",
      "metadata": {
        "id": "IMtA7eQRzVD3"
      },
      "source": [
        "def isDivisible(n: int)-> bool:\n",
        "  return n % 3 == 0 or n % 5 == 0\n",
        "\n",
        "def sumOfMultiples(n: int)->int:\n",
        "  return sum([i for i in range(1, n) if isDivisible(i)])"
      ],
      "execution_count": null,
      "outputs": []
    },
    {
      "cell_type": "code",
      "metadata": {
        "colab": {
          "base_uri": "https://localhost:8080/"
        },
        "id": "tgYxhR0I0v1O",
        "outputId": "a3d6407a-724d-4ea2-e03d-c67da5019884"
      },
      "source": [
        "print(sumOfMultiples(10))\n",
        "print(sumOfMultiples(1000))"
      ],
      "execution_count": null,
      "outputs": [
        {
          "output_type": "stream",
          "text": [
            "23\n",
            "233168\n"
          ],
          "name": "stdout"
        }
      ]
    },
    {
      "cell_type": "code",
      "metadata": {
        "colab": {
          "base_uri": "https://localhost:8080/"
        },
        "id": "_Yn6OBY-bYTo",
        "outputId": "d7ebcbc8-4689-452c-b580-2e5e4b6a1b0f"
      },
      "source": [
        "def isDivisible1(n: int)-> bool:\n",
        "  return sum(range(3, n, 3)) + sum(range(5, n, 5)) - sum(range(15, n, 15))\n",
        "\n",
        "isDivisible1(1000)"
      ],
      "execution_count": null,
      "outputs": [
        {
          "output_type": "execute_result",
          "data": {
            "text/plain": [
              "233168"
            ]
          },
          "metadata": {
            "tags": []
          },
          "execution_count": 1
        }
      ]
    },
    {
      "cell_type": "code",
      "metadata": {
        "colab": {
          "base_uri": "https://localhost:8080/"
        },
        "id": "0olTZdiBcJoJ",
        "outputId": "41e2f2f4-2d18-4593-a9f0-af80e06f542e"
      },
      "source": [
        "def isDivisible2(n: int)-> bool:\n",
        "  return sum(set(range(3, n, 3)) | set(range(5, n, 5)))\n",
        "\n",
        "isDivisible2(1000)"
      ],
      "execution_count": null,
      "outputs": [
        {
          "output_type": "execute_result",
          "data": {
            "text/plain": [
              "233168"
            ]
          },
          "metadata": {
            "tags": []
          },
          "execution_count": 2
        }
      ]
    },
    {
      "cell_type": "markdown",
      "metadata": {
        "id": "r9_K3RhE1dZi"
      },
      "source": [
        "##Even Fibonacci numbers##\n",
        "\n",
        "Problem - 2\n"
      ]
    },
    {
      "cell_type": "markdown",
      "metadata": {
        "id": "X79WVV7Y5gOc"
      },
      "source": [
        "METHOD-1"
      ]
    },
    {
      "cell_type": "code",
      "metadata": {
        "id": "Cyz_jhLN1vTO"
      },
      "source": [
        "def fib_sequence(n : int)->[int]:\n",
        "  a, b = 0, 1\n",
        "  seq = []\n",
        "  while a < n:\n",
        "      seq.append(a)\n",
        "      a, b = b, a + b\n",
        "  return seq\n",
        "\n",
        "#fib_sequence(10)"
      ],
      "execution_count": null,
      "outputs": []
    },
    {
      "cell_type": "code",
      "metadata": {
        "id": "sUicQtaj2-OC"
      },
      "source": [
        "def evenFibSum(n : int)->int:\n",
        "  seq = fib_sequence(n)\n",
        "  return sum([num for num in seq if num % 2 == 0])"
      ],
      "execution_count": null,
      "outputs": []
    },
    {
      "cell_type": "code",
      "metadata": {
        "colab": {
          "base_uri": "https://localhost:8080/"
        },
        "id": "f3ScPgzB3uXa",
        "outputId": "d7a87ee6-4eac-4855-eee9-ddd995a5da5b"
      },
      "source": [
        "print(evenFibSum(10))\n",
        "print(evenFibSum(4000000))"
      ],
      "execution_count": null,
      "outputs": [
        {
          "output_type": "stream",
          "text": [
            "10\n",
            "4613732\n"
          ],
          "name": "stdout"
        }
      ]
    },
    {
      "cell_type": "markdown",
      "metadata": {
        "id": "EhyR1Z7s5bPG"
      },
      "source": [
        "METHOD-2"
      ]
    },
    {
      "cell_type": "code",
      "metadata": {
        "id": "9ko5YR8w5KMS"
      },
      "source": [
        "def even_fib(limit):\n",
        "    a, b = 0, 1\n",
        "    while a < limit:\n",
        "        if not a % 2:\n",
        "            #print(a)         \n",
        "            yield a\n",
        "        a, b = b, a + b"
      ],
      "execution_count": null,
      "outputs": []
    },
    {
      "cell_type": "code",
      "metadata": {
        "colab": {
          "base_uri": "https://localhost:8080/"
        },
        "id": "1fz9Q18m5Lk0",
        "outputId": "131c03b1-e6d7-4b28-90e0-e8a552a1ac4a"
      },
      "source": [
        "print(sum(even_fib(4000000)))"
      ],
      "execution_count": null,
      "outputs": [
        {
          "output_type": "stream",
          "text": [
            "4613732\n"
          ],
          "name": "stdout"
        }
      ]
    },
    {
      "cell_type": "markdown",
      "metadata": {
        "id": "VrFlkQ198hUE"
      },
      "source": [
        "##Largest prime factor\n",
        " \n",
        "Problem 3"
      ]
    },
    {
      "cell_type": "code",
      "metadata": {
        "colab": {
          "base_uri": "https://localhost:8080/"
        },
        "id": "sNDRIiw3z5Ms",
        "outputId": "670f8891-6468-48c2-a14c-5d5c8013ea7c"
      },
      "source": [
        "def prime_factors(n):\n",
        "    i = 2\n",
        "    factors = []\n",
        "    while i * i <= n:\n",
        "        if n % i:\n",
        "            i += 1\n",
        "        else:\n",
        "            n //= i\n",
        "            factors.append(i)\n",
        "    if n > 1:\n",
        "        factors.append(n)\n",
        "    return factors\n",
        "p=prime_factors(600851475143)\n",
        "print(p[-1])"
      ],
      "execution_count": null,
      "outputs": [
        {
          "output_type": "stream",
          "text": [
            "6857\n"
          ],
          "name": "stdout"
        }
      ]
    },
    {
      "cell_type": "markdown",
      "metadata": {
        "id": "cCHa4QtHkSBt"
      },
      "source": [
        "##Largest palindrome product\n",
        "\n",
        "Problem 4"
      ]
    },
    {
      "cell_type": "code",
      "metadata": {
        "id": "aT7dE2GhClSt"
      },
      "source": [
        "def checkPalindrome(num : int)->bool:\n",
        "  return str(num) == str(num)[::-1]"
      ],
      "execution_count": null,
      "outputs": []
    },
    {
      "cell_type": "code",
      "metadata": {
        "colab": {
          "base_uri": "https://localhost:8080/"
        },
        "id": "dcsy6PMPCLbZ",
        "outputId": "4748b63c-ecb7-43e9-a2ca-b1c86920e354"
      },
      "source": [
        "def largestPalindrome()-> int:\n",
        "  return max([i * x for i in range(999, 100, -1) for x in range(999, 100, -1) if checkPalindrome(i * x)])\n",
        "                \n",
        "print(largestPalindrome())"
      ],
      "execution_count": null,
      "outputs": [
        {
          "output_type": "stream",
          "text": [
            "906609\n"
          ],
          "name": "stdout"
        }
      ]
    },
    {
      "cell_type": "markdown",
      "metadata": {
        "id": "Lt-UsV9G9NSE"
      },
      "source": [
        "##Smallest multiple\n",
        "\n",
        "Problem 5"
      ]
    },
    {
      "cell_type": "code",
      "metadata": {
        "colab": {
          "base_uri": "https://localhost:8080/"
        },
        "id": "Nwx731CZKyjW",
        "outputId": "19018214-4d90-4c2a-b9e2-c94eec08a1f2"
      },
      "source": [
        "def gcd(x,y): return y and gcd(y, x % y) or x\n",
        "def lcm(x,y): return x * y / gcd(x,y)\n",
        "\n",
        "n = 20\n",
        "for i in range(1, 21):\n",
        "     n = lcm(n, i)\n",
        "print(int(n))"
      ],
      "execution_count": null,
      "outputs": [
        {
          "output_type": "stream",
          "text": [
            "232792560\n"
          ],
          "name": "stdout"
        }
      ]
    },
    {
      "cell_type": "markdown",
      "metadata": {
        "id": "QrdYCV2EMOFX"
      },
      "source": [
        "##Sum square difference\n",
        "\n",
        "Problem 6"
      ]
    },
    {
      "cell_type": "code",
      "metadata": {
        "id": "Xq8hPE4jMZel"
      },
      "source": [
        "def sumOfsquares(n: int)->int:\n",
        "  return sum([ (i + 1) ** 2 for i in range(n)])"
      ],
      "execution_count": null,
      "outputs": []
    },
    {
      "cell_type": "code",
      "metadata": {
        "id": "XnmWx-3xssrj"
      },
      "source": [
        "def squareOfSum(n: int)->int:\n",
        "  return sum([i + 1 for i in range(n)]) ** 2"
      ],
      "execution_count": null,
      "outputs": []
    },
    {
      "cell_type": "code",
      "metadata": {
        "colab": {
          "base_uri": "https://localhost:8080/"
        },
        "id": "5RtoRGfwtEwy",
        "outputId": "c29a9765-422b-4441-a754-630d7bcc3f86"
      },
      "source": [
        "def sumSquareDiff(limit: int)->int:\n",
        "  return squareOfSum(limit) - sumOfsquares(limit)\n",
        "sumSquareDiff(100)"
      ],
      "execution_count": null,
      "outputs": [
        {
          "output_type": "execute_result",
          "data": {
            "text/plain": [
              "25164150"
            ]
          },
          "metadata": {
            "tags": []
          },
          "execution_count": 6
        }
      ]
    },
    {
      "cell_type": "markdown",
      "metadata": {
        "id": "q-nQjH0HuWzA"
      },
      "source": [
        "##10001st prime\n",
        "\n",
        "Problem 7"
      ]
    },
    {
      "cell_type": "code",
      "metadata": {
        "colab": {
          "base_uri": "https://localhost:8080/"
        },
        "id": "X5SbpuNO1Zoe",
        "outputId": "8039f8cf-7610-4b5e-e734-c11a04950f10"
      },
      "source": [
        "def nth_prime(n):\n",
        "    counter = 2\n",
        "    count = 0\n",
        "    for i in range(3, n**2, 2):\n",
        "        k = 1\n",
        "        count +=1\n",
        "        while k*k < i:\n",
        "            k += 2\n",
        "            if i % k == 0:\n",
        "               break\n",
        "        else:\n",
        "          counter += 1\n",
        "        if counter == n:\n",
        "          return i, count\n",
        "\n",
        "print(nth_prime(10001))"
      ],
      "execution_count": null,
      "outputs": [
        {
          "output_type": "stream",
          "text": [
            "(104743, 52371)\n"
          ],
          "name": "stdout"
        }
      ]
    },
    {
      "cell_type": "code",
      "metadata": {
        "colab": {
          "base_uri": "https://localhost:8080/"
        },
        "id": "HB1nLKadxefv",
        "outputId": "f8fd74df-a727-4f4e-d89c-3658b039ca6d"
      },
      "source": [
        "n=input(\"enter the nth prime \")\n",
        "num=4\n",
        "p=2\n",
        "\n",
        "while p <int(n):\n",
        "    if all(num%i!=0 for i in range(2,num)):\n",
        "        p=p+1   \n",
        "    num=num+1\n",
        "\n",
        "print(\"nTH prime number: \",num-1)"
      ],
      "execution_count": null,
      "outputs": [
        {
          "output_type": "stream",
          "text": [
            "enter the nth prime 10\n",
            "nTH prime number:  29\n"
          ],
          "name": "stdout"
        }
      ]
    },
    {
      "cell_type": "markdown",
      "metadata": {
        "id": "EzmxE4E11KF_"
      },
      "source": [
        ""
      ]
    },
    {
      "cell_type": "code",
      "metadata": {
        "id": "CKEfCsfN5uJy"
      },
      "source": [
        "def hailstone_Sequence(n):\n",
        "  lst=[]\n",
        "  while(n>=1):\n",
        "    if n%2:\n",
        "      n=n*3+1\n",
        "    else:\n",
        "      n/=2\n",
        "    lst.append(n)\n",
        "  return lst\n",
        "\n",
        "print(hailstone_Sequence(7))"
      ],
      "execution_count": null,
      "outputs": []
    },
    {
      "cell_type": "code",
      "metadata": {
        "id": "7_J3Eey18ycf"
      },
      "source": [
        "lst=range(10)\n",
        "print(lst)"
      ],
      "execution_count": null,
      "outputs": []
    },
    {
      "cell_type": "code",
      "metadata": {
        "id": "_fCj5Mm29T1m"
      },
      "source": [
        "def collatz_sequence(num):\n",
        "  print(num)\n",
        "  num= num/2 if num % 2 == 0 else num*3+1\n",
        "  if(num==1):\n",
        "    print(num)\n",
        "    return \n",
        "  collatz_sequence(num)\n",
        "\n",
        "\n",
        "collatz_sequence(13)"
      ],
      "execution_count": null,
      "outputs": []
    }
  ]
}